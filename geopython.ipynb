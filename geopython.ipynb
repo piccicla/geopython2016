{
 "cells": [
  {
   "cell_type": "markdown",
   "metadata": {},
   "source": [
    "# Modelling of semi-arid rangelands for sustainable management with the Python API of the ILWIS GIS/RS software"
   ]
  },
  {
   "cell_type": "markdown",
   "metadata": {},
   "source": [
    "<b>Claudio Piccinini 2016; c.piccinini@utwente.nl</b>\n",
    "<br/><br/>\n",
    "<b>This workshop is based on A.G Toxopeus, 1999, \"An interactive spatial and temporal modelling system as a tool in ecosystem management\", ITC-Enschede</b>\n",
    "\n",
    "<i>I wish to thank various people for their contribution to this workshop: <br/>\n",
    "Bas Retsios for developing the Ilwis software and fixing various ilwisobjects bugs<br/>\n",
    "Martin Schouwenburg for developing the Ilwis software<br/>\n",
    "Jamshid Farifteh for sharing some datasets<br/>\n",
    "Joao Bonina for developing ilwisobjects<br/>\n",
    "Bert A.G. Toxopeus for sharing the original model and the datasets<br/>\n",
    "Rob Lemmens for promoting this workshop</i>"
   ]
  },
  {
   "cell_type": "markdown",
   "metadata": {},
   "source": [
    "## RANGELANDS MANAGEMENT MODEL IN THE MARA RIVER BASIN"
   ]
  },
  {
   "cell_type": "markdown",
   "metadata": {},
   "source": [
    "Variability of the climatic and the drought phenomena makes range productivity a function of climate. <br/>\n",
    "In the study area the climate is variable and drought is a major characteristic.\n",
    "Therefore the pastoralis (Maasai) make great use of movement to take stock to favourable areas for grazing as forage declines in one area (in reality herd movements are restricted to the boundaries of the group ranches).<br/>\n",
    "To construct a model calculating and displaying the spatial and temporal variation of the expected impact of the grazing activities of both wildlife and livestock during the long dry season different data has to be collected: \n",
    "\n",
    "- animal distribution and density per wet and or dry season\n",
    "- The Maasai herding strategies\n",
    "- wildlife migratory routes\n",
    "- the forage production of various land cover types\n",
    "- the water availability during the dry season\n",
    "- rainfall\n",
    "- etc."
   ]
  },
  {
   "cell_type": "markdown",
   "metadata": {},
   "source": [
    "The model consists of 3 parts:\n",
    "- the forage availability ( production)\n",
    "- the forage demand\n",
    "- accessibility for both wildlife and livestock"
   ]
  },
  {
   "cell_type": "markdown",
   "metadata": {},
   "source": [
    "<img src=\"files/images/model.jpg\" width=800>"
   ]
  },
  {
   "cell_type": "markdown",
   "metadata": {},
   "source": [
    "- The forage availability is related to the productivity of the rangelands under certain climatological and biophysical conditions. <br/>\n",
    "For this model biophysical conditions (slope map and soil map) are not changing very fast or varying much in time, but the climate aspect (rainfall), has the most ignificant contribution to the productivity of the rangelands.<br/>Rainfall variability is high and varies each rainy season; therefore the production aspect is the yearly (seasonal) variable in time. "
   ]
  },
  {
   "cell_type": "markdown",
   "metadata": {},
   "source": [
    "- The forage demand is related to the distribution and density of both wildlife and livestock during different periods ( e.g. wet and/or dry season). These densities and distributions are determined by the actual census data and relatively constant if considered on a long term basis."
   ]
  },
  {
   "cell_type": "markdown",
   "metadata": {},
   "source": [
    "- The accessibility is a matter of the availability of drinking water for especially the water dependent wildlife species and livestock during the dry season. But also other aspects such as topography, land cover, and surface roughness play a role. <br/>\n",
    "Again, changes in this aspect are of more long term character and if changes  occur, they are relatively easy to update in the model"
   ]
  },
  {
   "cell_type": "markdown",
   "metadata": {
    "collapsed": true
   },
   "source": [
    "## 1. FORAGE AVAILABILITY (PRODUCTION)"
   ]
  },
  {
   "cell_type": "markdown",
   "metadata": {},
   "source": [
    "Is a function of rainfall, soil condition, land cover, and topography."
   ]
  },
  {
   "cell_type": "markdown",
   "metadata": {},
   "source": [
    "### 1.1 Perennial grass cover"
   ]
  },
  {
   "cell_type": "markdown",
   "metadata": {},
   "source": [
    "The vegetation cover has been compiled with the interpretation of satellite images, aerial photographs, data collection during field surveys. Each vegetation type has an average % perennial grass cover"
   ]
  },
  {
   "cell_type": "code",
   "execution_count": null,
   "metadata": {
    "collapsed": false
   },
   "outputs": [],
   "source": [
    "#this code will add a field \"reclass\" to the raster table \"vegetation.tbt\"\n",
    "\n",
    "\n",
    "import ilwis\n",
    "ilwis.disconnectIssueLogger() #hide logs\n",
    "\n",
    "\n",
    "#set your ilwisobjects current working catalog!\n",
    "pth = r\"C:\\Users\\piccinini\\PycharmProjects\\geopython2016\\data\"\n",
    "\n",
    "\n",
    "ilwis.Engine.setWorkingCatalog(pth)\n",
    "\n",
    "#open a ilwis table\n",
    "table = ilwis.Table(\"vegetation.tbt\")\n",
    "print(table.columns())\n",
    "\n",
    "#add new column if necessary\n",
    "if \"reclass\" not in table.columns():\n",
    "    table.addColumn(\"reclass\", \"value\")\n",
    "    \n",
    "\n",
    "print(table.columns())"
   ]
  },
  {
   "cell_type": "code",
   "execution_count": null,
   "metadata": {
    "collapsed": false
   },
   "outputs": [],
   "source": [
    "#this is a utility function that visualize a raster coverage\n",
    "\n",
    "\n",
    "import numpy as np\n",
    "import matplotlib.pyplot as plt\n",
    "\n",
    "#we want inline charts\n",
    "%matplotlib inline \n",
    "\n",
    "def visualize(rc, colorbar=True, minvalue = 0, cmap= 'jet'):\n",
    "    \"\"\"visualize a map from a pixel iterator\n",
    "    rc: raster coverage\n",
    "    colorbar: add a colorbar to the chart?\n",
    "    minvalue: minimum value to be visualized\n",
    "    cmap: the colormap for the chart ; look at http://matplotlib.org/users/colormaps.html\n",
    "    \"\"\"\n",
    "    \n",
    "    #create \"pixel iterator\" and get the x,y size through the box object\n",
    "    rciter = iter(rc)\n",
    "    bx = rciter.box()\n",
    "    columns = bx.size().xsize\n",
    "    rows = bx.size().ysize\n",
    "\n",
    "    #####visualize DN map#####\n",
    "\n",
    "    # convert the pixel iterator to a numpy array\n",
    "    nparr = np.fromiter(rciter,np.float, rc.size().linearSize()) \n",
    "    nparr = nparr.reshape(rows,columns )\n",
    "    #hide nodata value\n",
    "    mask = nparr<minvalue \n",
    "    nparr[mask]=minvalue\n",
    "\n",
    "    #visualize with matplotlib\n",
    "    plt.imshow(nparr, cmap=plt.get_cmap(cmap))\n",
    "    if colorbar: plt.colorbar()\n",
    "    plt.show()"
   ]
  },
  {
   "cell_type": "code",
   "execution_count": null,
   "metadata": {
    "collapsed": false
   },
   "outputs": [],
   "source": [
    "# list all the available ilwis operations\n",
    "print(ilwis.Engine().operations())"
   ]
  },
  {
   "cell_type": "code",
   "execution_count": null,
   "metadata": {
    "collapsed": false
   },
   "outputs": [],
   "source": [
    "#what are the parameters for the selection operation?\n",
    "print(ilwis.Engine().operationMetaData(\"selection\"))"
   ]
  },
  {
   "cell_type": "code",
   "execution_count": null,
   "metadata": {
    "collapsed": false
   },
   "outputs": [],
   "source": [
    "#open raster and filter the DN column usin the selection operation\n",
    "#this is necessary because vegetation il linked to a vegetation table\n",
    "\n",
    "rc = ilwis.RasterCoverage(\"vegetation.mpr\")\n",
    "rcdn = ilwis.Engine.do(\"selection\",rc,'\"attributes(DN)\"')\n",
    "   \n",
    "visualize(rcdn, minvalue = -10,   cmap= 'jet')"
   ]
  },
  {
   "cell_type": "code",
   "execution_count": null,
   "metadata": {
    "collapsed": false
   },
   "outputs": [],
   "source": [
    "# we want to reclassify the pixel values according to values stored in the table grasscover.csv\n",
    "# the new value is a grass percentage coverage\n",
    "\n",
    "import csv\n",
    "import os\n",
    "\n",
    "#set your Python current working directory!\n",
    "os.chdir(pth)\n",
    "\n",
    "reclass ={}\n",
    "\n",
    "f = open(\"grasscover.csv\")\n",
    "f.readline() #skip field names\n",
    "r = csv.reader(f)\n",
    "\n",
    "for line in r:\n",
    "    #print(line)\n",
    "    if int(line[1]) != 0 : \n",
    "        reclass[int(line[0])]=int(line[1])\n",
    "    \n",
    "print(reclass)  "
   ]
  },
  {
   "cell_type": "code",
   "execution_count": null,
   "metadata": {
    "collapsed": false
   },
   "outputs": [],
   "source": [
    "# we use the dictionary to add values to the 'reclass' column\n",
    "\n",
    "idx0 = table.columnIndex('DN')\n",
    "idx = table.columnIndex('reclass')\n",
    "\n",
    "rec = table.recordCount()\n",
    "\n",
    "for i in range(rec):\n",
    "    if table.record(i)[idx0] in reclass:\n",
    "        table.setCell(\"reclass\", i, reclass[table.record(i)[idx0]])\n",
    "    else:\n",
    "        table.setCell(\"reclass\", i, 0)\n",
    "\n",
    "#for i in range(rec):\n",
    "#    print(table.record(i))\n",
    "\n",
    "\n",
    "#saving the updated ilwis table\n",
    "table.store(\"vegetation.tbt\",\"table\", \"ilwis3\")\n",
    "\n",
    "\n",
    "#use the select operator to extract the perennial grasscover percentage map\n",
    "perennial_grasscover = ilwis.Engine.do(\"selection\",rc,'\"attributes(reclass)\"')\n",
    "visualize(perennial_grasscover, minvalue = -10)"
   ]
  },
  {
   "cell_type": "code",
   "execution_count": null,
   "metadata": {
    "collapsed": true
   },
   "outputs": [],
   "source": [
    "#saving raster coverages is done with .store\n",
    "# raster coverages can be saved to different formats (e.g. Geotiff)\n",
    "\n",
    "#perennial_grasscover.store(\"perennial_grasscover\",\"GTiff\",\"gdal\")\n",
    "perennial_grasscover.store(\"perennial_grasscover\",\"map\",\"ilwis3\")"
   ]
  },
  {
   "cell_type": "markdown",
   "metadata": {},
   "source": [
    "### 1.2 Rainfall map (wet season)"
   ]
  },
  {
   "cell_type": "markdown",
   "metadata": {},
   "source": [
    "A long term rainfall distribution map (RF_distribution in mm/month) for the wet season can be calculated by interpolation of rainfall data"
   ]
  },
  {
   "cell_type": "code",
   "execution_count": null,
   "metadata": {
    "collapsed": false
   },
   "outputs": [],
   "source": [
    "# we want to look inside the rain folder and create a list of .mpr files \n",
    "# these files contain rain data for the most rainy months (march,april,may)\n",
    "\n",
    "ndipath = r\"rain\"\n",
    "inimgfrmt = [\".mpr\"]\n",
    "rain_rasters = []\n",
    "\n",
    "#this will list all the folder content\n",
    "imgs = os.listdir(ndipath)\n",
    "\n",
    "#we iterate the content and extract the .mpr file names\n",
    "for i in imgs:\n",
    "    if os.path.isfile(ndipath + '/' + i) and (os.path.splitext(ndipath + '/' + i)[-1] in inimgfrmt):\n",
    "        rain_rasters.append(i)\n",
    "        \n",
    "print(rain_rasters)"
   ]
  },
  {
   "cell_type": "code",
   "execution_count": null,
   "metadata": {
    "collapsed": false
   },
   "outputs": [],
   "source": [
    "# we calculate the long term average for the wet season\n",
    "\n",
    "\n",
    "RF_distribution = ilwis.RasterCoverage(ilwis.Engine.getLocation()+\"/rain/\"+rain_rasters[0])\n",
    "\n",
    "for i in range(1, len(rain_rasters)):\n",
    "    print(rain_rasters[i], end=\" - \")\n",
    "    monthly_rain = ilwis.RasterCoverage(ilwis.Engine.getLocation()+\"/rain/\"+rain_rasters[i])\n",
    "    RF_distribution = (RF_distribution + monthly_rain)\n",
    "    \n",
    "RF_distribution = RF_distribution/len(rain_rasters)\n"
   ]
  },
  {
   "cell_type": "code",
   "execution_count": null,
   "metadata": {
    "collapsed": false
   },
   "outputs": [],
   "source": [
    "visualize(RF_distribution)"
   ]
  },
  {
   "cell_type": "code",
   "execution_count": null,
   "metadata": {
    "collapsed": true
   },
   "outputs": [],
   "source": [
    "#RF_distribution.store(\"RF_distribution\",\"GTiff\",\"gdal\")\n",
    "RF_distribution.store(\"RF_distribution\",\"map\",\"ilwis3\")"
   ]
  },
  {
   "cell_type": "markdown",
   "metadata": {},
   "source": [
    "### 1.3 Conversion of rainfall to water availability for ground layer vegetation"
   ]
  },
  {
   "cell_type": "markdown",
   "metadata": {},
   "source": [
    "The availability of water can be directly related to the rainfall for different groups of soils, because run-off and run-on and the water holding capacity for these groups of soils are about the same.<br/> \n",
    "The area has been divided into 4 different physical groups, taking topography into account as well: \n",
    "- where some run-off occur occasionally (4) \n",
    "- where run-off is rather common (3)\n",
    "- where some run-off occurs regularly (2)\n",
    "- swamp areas (1)\n",
    "\n",
    "The rainfall_effectivity map (RF_effectivity) is created assigning one of the above factors to the soil map"
   ]
  },
  {
   "cell_type": "code",
   "execution_count": null,
   "metadata": {
    "collapsed": false
   },
   "outputs": [],
   "source": [
    "table = ilwis.Table(ilwis.Engine.getLocation()+\"/soil/soils.tbt\")\n",
    "\n",
    "print(table.columns())\n",
    "\n",
    "print(table.record(0))"
   ]
  },
  {
   "cell_type": "code",
   "execution_count": null,
   "metadata": {
    "collapsed": false,
    "scrolled": true
   },
   "outputs": [],
   "source": [
    "# the soil raster coverage has already a Rain_Effec field\n",
    "soils = ilwis.RasterCoverage(ilwis.Engine.getLocation()+\"/soil/soils.mpr\")\n",
    "RF_effectivity = ilwis.Engine.do(\"selection\",soils,'\"attributes(Rain_Effec)\"')\n",
    "\n",
    "visualize(RF_effectivity)"
   ]
  },
  {
   "cell_type": "code",
   "execution_count": null,
   "metadata": {
    "collapsed": true
   },
   "outputs": [],
   "source": [
    "#RF_effectivity.store(\"RF_effectivity\",\"GTiff\",\"gdal\")\n",
    "RF_effectivity.store(\"RF_effectivity\",\"map\",\"ilwis3\")"
   ]
  },
  {
   "cell_type": "markdown",
   "metadata": {},
   "source": [
    "### 1.4 Peak standing crop of perennial grasses"
   ]
  },
  {
   "cell_type": "markdown",
   "metadata": {},
   "source": [
    "Several methods are used to estimate the production of forage for large herbivores. The forage production is always directly or indirectly a product of the amount of rainfall and grass cover, but the final peak standing crop at the end of the rainy season depends on a number of other factors as well, like nutrient availability, the contribution of perennial and/or annual grasses and forbs, the amount of raifall during the growing season and the length of the growing season, and the (non) utilization of swamp vegetation.<br/>\n",
    "The nutrient supply in the relatively poor west African savanna soils is often a limiting factor in plant growth as especially nitrogen and phosphorus limit the primary production at a rainfall more than 400 mm per growing period. <br/>\n",
    "In the study area rainfall generally never exceeds 400 mm per growing season, the nutrient availability is not assumed to be limiting for the growth of perennial grasses during the growing season.<br/>\n",
    "Swap vegetation and annual grasses are not used for the estimation of the peak standing crop, because of their limited contribution to the total forage to be used by the large herbivores during the dry season.<br/><br/>\n",
    "The sum of the rainfall during the growing season will determine the peak standing crop according to the equation: <br/>\n",
    "\n",
    "<b>peak_standing_crop = RF_effectivity X perennial_grasscover X  RF_distribution</b>"
   ]
  },
  {
   "cell_type": "code",
   "execution_count": null,
   "metadata": {
    "collapsed": false
   },
   "outputs": [],
   "source": [
    "# raster coverages support common operations such as sum, subtraction, multiplication\n",
    "peak_standing_crop = RF_effectivity *  perennial_grasscover * RF_distribution\n",
    "\n",
    "visualize(peak_standing_crop, minvalue = -5000)"
   ]
  },
  {
   "cell_type": "code",
   "execution_count": null,
   "metadata": {
    "collapsed": false
   },
   "outputs": [],
   "source": [
    "#peak_standing_crop.store(\"peak_standing_crop\",\"GTiff\",\"gdal\")\n",
    "peak_standing_crop.store(\"peak_standing_crop\",\"map\",\"ilwis3\")"
   ]
  },
  {
   "cell_type": "markdown",
   "metadata": {
    "collapsed": true
   },
   "source": [
    "### 1.5 Availability of forage for the large herbivores"
   ]
  },
  {
   "cell_type": "markdown",
   "metadata": {},
   "source": [
    "According to the FAO a combined factor called \"edible forage\", should be reduced from the herbaceous peak standing crop to account for grazing efficiency, forage loss and a \"proper use factor\" to account for sustainability. <br/>\n",
    "This factor may vary according to different researches and situation; studies conducted in eastern Kenya suggest that no more than 55% of the grass cover should be removed in one way or the other to keep the grassland at least in the same condition as it was before. <br/><br/>\n",
    "So at least 45% of the peak standing crop should be left at the beginning of the next rainy season; additional 10% will be reduced because of invertebrate consumption and natural decay.\n",
    "\n",
    "<b>sustainable_available = peak_standing_crop X 0.45</b>"
   ]
  },
  {
   "cell_type": "code",
   "execution_count": null,
   "metadata": {
    "collapsed": false
   },
   "outputs": [],
   "source": [
    "sustainable_available = peak_standing_crop * 0.45\n",
    "\n",
    "visualize(sustainable_available, minvalue = -5000)"
   ]
  },
  {
   "cell_type": "code",
   "execution_count": null,
   "metadata": {
    "collapsed": true
   },
   "outputs": [],
   "source": [
    "#sustainable_available.store(\"sustainable_available\",\"GTiff\",\"gdal\")\n",
    "sustainable_available.store(\"sustainable_available\",\"map\",\"ilwis3\")"
   ]
  },
  {
   "cell_type": "markdown",
   "metadata": {},
   "source": [
    "## 2. FORAGE DEMAND OF WILDLIFE AND LIVESTOCK"
   ]
  },
  {
   "cell_type": "markdown",
   "metadata": {},
   "source": [
    "### 2.1 Relevant large herbivores"
   ]
  },
  {
   "cell_type": "markdown",
   "metadata": {},
   "source": [
    "The estimation and the density of the herbivores is based on surveys and animal counts. <br/>\n",
    "The study area was divided into a 5X5 km grid."
   ]
  },
  {
   "cell_type": "code",
   "execution_count": null,
   "metadata": {
    "collapsed": false
   },
   "outputs": [],
   "source": [
    "#let's have a look at the Boundaries_Mamase_Grid table structure\n",
    "table = ilwis.Table(\"Boundaries_Mamase_Grid.tbt\")\n",
    "print(table.columns())\n",
    "\n",
    "print(table.record(0))"
   ]
  },
  {
   "cell_type": "code",
   "execution_count": null,
   "metadata": {
    "collapsed": true
   },
   "outputs": [],
   "source": [
    "# this function will create a random matplotlib colormap\n",
    "# based on https://gist.github.com/jakevdp/91077b0cae40f8f8244a\n",
    "\n",
    "import matplotlib.pyplot as plt\n",
    "import numpy as np\n",
    "\n",
    "def discrete_cmap(N, base_cmap=None):\n",
    "    \"\"\"Create an N-bin discrete colormap from the specified input map\n",
    "    \"\"\"\n",
    "    # Note that if base_cmap is a string or None, you can simply do\n",
    "    #    return plt.cm.get_cmap(base_cmap, N)\n",
    "    # The following works for string, None, or a colormap instance:\n",
    "    base = plt.cm.get_cmap(base_cmap)\n",
    "    color_list = base(np.random.random(N))\n",
    "    cmap_name = base.name + str(N)\n",
    "    return base.from_list(cmap_name, color_list, N)"
   ]
  },
  {
   "cell_type": "code",
   "execution_count": null,
   "metadata": {
    "collapsed": false
   },
   "outputs": [],
   "source": [
    "# the field FID_narok_ contains the unnique cell id\n",
    "grid_raster = ilwis.RasterCoverage(\"Boundaries_Mamase_Grid.mpr\")\n",
    "grid_id = ilwis.Engine.do(\"selection\",grid_raster,'\"attributes(FID_narok_)\"')\n",
    "\n",
    "visualize(grid_id,colorbar=False, cmap=discrete_cmap(500, 'jet'))"
   ]
  },
  {
   "cell_type": "markdown",
   "metadata": {},
   "source": [
    "The model calculate the forage needs for grazers and mixed feeders, browsers are excluded."
   ]
  },
  {
   "cell_type": "markdown",
   "metadata": {},
   "source": [
    "For grazers the total forage will be used <br/> \n",
    "<img src=\"files/images/grazers.jpg\" width=600>"
   ]
  },
  {
   "cell_type": "markdown",
   "metadata": {},
   "source": [
    "For mixed-feeders only the proportion of their forage need that is covered by grass will be used<br/>\n",
    "- if they have a preference for grass, 65% of their diet will be considered\n",
    "- if they have a preference for browse, only 35% of their diet will be considered<br/>\n",
    "<img src=\"files/images/mixfeeders.jpg\" width=600>"
   ]
  },
  {
   "cell_type": "markdown",
   "metadata": {},
   "source": [
    "### 2.2 Body weight vs. energy intake"
   ]
  },
  {
   "cell_type": "markdown",
   "metadata": {},
   "source": [
    "The estimated average body weight of adult animals is a compilation of estimates given by many authors.<br/>\n",
    "Forage requirements are well studied for domestic herbivores, less for wildlife.\n",
    "Different methodologies are applied to estimate the forage need ( daily dry matter requirement) for herbivores.<br/>\n",
    "We can use an avarage of values from different studies of life body weight and their dry matter (DM) requirements per species under semiarid rangelands conditions during the long dry season.<br/><br/>\n",
    "The table below shows an example of the daily dry matter intake of grass of free ranging hervivores during the dry season and the percentages of the daily dry matter intake in relation to their life body weight.<br/><br/>\n",
    "<img src=\"files/images/dmtable.jpg\" width=600>"
   ]
  },
  {
   "cell_type": "markdown",
   "metadata": {},
   "source": [
    "### 2.3 Census data"
   ]
  },
  {
   "cell_type": "code",
   "execution_count": null,
   "metadata": {
    "collapsed": false
   },
   "outputs": [],
   "source": [
    "f = open(\"grids/wildlife.csv\")\n",
    "print(f.readline())\n",
    "print(f.readline())\n",
    "f.close()\n",
    "\n",
    "f = open(\"grids/livestock.csv\")\n",
    "print(f.readline())\n",
    "print(f.readline())\n",
    "f.close()"
   ]
  },
  {
   "cell_type": "code",
   "execution_count": null,
   "metadata": {
    "collapsed": false
   },
   "outputs": [],
   "source": [
    "# we join the grid with the census data\n",
    "#this works with feature coverage maps, therefore we can convert to raster coverage\n",
    "\n",
    "wildlife = ilwis.Table(ilwis.Engine.getLocation() + \"/grids/wildlife.csv\")\n",
    "grid = ilwis.FeatureCoverage(\"Boundaries_Mamase_Grid.mpa\")\n",
    "census_wildlife = ilwis.Engine.do(\"joinattributes\", grid, \"FID_narok_\", wildlife,\"cell\")\n",
    "census_wildlife_raster = ilwis.Engine.do(\"polygon2raster\",census_wildlife,ilwis.GeoReference(\"mamase.grf\"))\n",
    "census_wildlife_raster.store(\"census_wildlife\",\"map\",\"ilwis3\")\n",
    "\n",
    "livestock = ilwis.Table(ilwis.Engine.getLocation() + \"/grids/livestock.csv\")\n",
    "census_livestock = ilwis.Engine.do(\"joinattributes\", grid, \"FID_narok_\", livestock,\"cell\")\n",
    "census_livestock_raster = ilwis.Engine.do(\"polygon2raster\",census_livestock,ilwis.GeoReference(\"mamase.grf\"))\n",
    "census_livestock_raster.store(\"census_livestock\",\"map\",\"ilwis3\")"
   ]
  },
  {
   "cell_type": "markdown",
   "metadata": {},
   "source": [
    "### 2.4 Wildlife forage demand for the long dry season"
   ]
  },
  {
   "cell_type": "markdown",
   "metadata": {},
   "source": [
    "The presence of wildlife is considered a fact of life and in principle not to be managed. Therefore, the forage consumption by wildlife is abstracted from the plant forage available.<br/> \n",
    "What is left can be utilized by livestock.<br/> \n",
    "By determining the length of the dry season the expected forage consumption can be calculated.<br/> "
   ]
  },
  {
   "cell_type": "markdown",
   "metadata": {},
   "source": [
    "The lenght of the long dry season is combined with the average number of days per month(30.4), the dry matter intake value of a species and linked to the map with the distribution and density of each wildlife species. <br/><br/>\n",
    "\n",
    "<b>wildlife_demand = number_dry_months X 30.4 X species_dm_intake X density</b>\n",
    "\n",
    "For the wildlife the forage demand is summed to obtain a map with the location and extent of the total wildlife forage demand"
   ]
  },
  {
   "cell_type": "code",
   "execution_count": null,
   "metadata": {
    "collapsed": false
   },
   "outputs": [],
   "source": [
    "#import os\n",
    "#import csv\n",
    "#set your Python current working directory\n",
    "#os.chdir(r\"C:\\Python34\\Scripts\\geopython\\data\")\n",
    "\n",
    "\n",
    "# the dry matter requirements are stored in a csv file\n",
    "\n",
    "wildlife_dict ={}\n",
    "f = open(\"grids/wildlife_DM_requirements.csv\")\n",
    "r = csv.reader(f)\n",
    "for line in r:\n",
    "        #print(line)\n",
    "        wildlife_dict[line[0]]=float(line[1])\n",
    "f.close()\n",
    "\n",
    "livestock_dict ={}\n",
    "f = open(\"grids/livestock_DM_requirements.csv\")\n",
    "r = csv.reader(f)\n",
    "for line in r:\n",
    "        #print(line)\n",
    "        livestock_dict[line[0]]=float(line[1])\n",
    "f.close()\n",
    "\n",
    "print(wildlife_dict) \n",
    "print(livestock_dict) \n"
   ]
  },
  {
   "cell_type": "code",
   "execution_count": null,
   "metadata": {
    "collapsed": false
   },
   "outputs": [],
   "source": [
    "#wildlife the forage demand is summed to obtain a map with the location and extent of the total wildlife forage demand\n",
    "\n",
    "#import ilwis\n",
    "#ilwis.disconnectIssueLogger()\n",
    "#set your ilwisobjects current working catalog\n",
    "#ilwis.Engine.setWorkingCatalog(r\"C:\\Users\\piccinini\\PycharmProjects\\geopython2016\\data\")\n",
    "\n",
    "\n",
    "census_wildlife = ilwis.RasterCoverage(ilwis.Engine.getLocation()+\"/census_wildlife.mpr\")\n",
    "\n",
    "total_forage_w = []\n",
    "\n",
    "for code in wildlife_dict:\n",
    "    #print('\"attributes('+code+')\"')\n",
    "    density_w = ilwis.Engine.do(\"selection\", census_wildlife,'\"attributes('+code+')\"')\n",
    "    \n",
    "    demand_w = 6 * 30.4 * wildlife_dict[code] * density_w\n",
    "    \n",
    "    total_forage_w.append(demand_w)\n",
    "\n"
   ]
  },
  {
   "cell_type": "code",
   "execution_count": null,
   "metadata": {
    "collapsed": false
   },
   "outputs": [],
   "source": [
    "# the built-in python function map will sum the rasters\n",
    "wildlife_demand = sum(total_forage_w)\n",
    "\n",
    "visualize(wildlife_demand)"
   ]
  },
  {
   "cell_type": "code",
   "execution_count": null,
   "metadata": {
    "collapsed": true
   },
   "outputs": [],
   "source": [
    "#wildlife_demand.store(\"wildlife_demand\",\"GTiff\",\"gdal\")\n",
    "wildlife_demand.store(\"wildlife_demand\",\"map\",\"ilwis3\")"
   ]
  },
  {
   "cell_type": "markdown",
   "metadata": {},
   "source": [
    "### 2.5 Livestock forage demand for the long dry season and sustainable available forage"
   ]
  },
  {
   "cell_type": "markdown",
   "metadata": {},
   "source": [
    "For the livestock the forage demand is summed to obtain a map with the location and extent of the total livestock forage demand."
   ]
  },
  {
   "cell_type": "code",
   "execution_count": null,
   "metadata": {
    "collapsed": false
   },
   "outputs": [],
   "source": [
    "census_livestock = ilwis.RasterCoverage(ilwis.Engine.getLocation()+\"/census_livestock.mpr\")\n",
    "\n",
    "total_forage_l = []\n",
    "\n",
    "for code in livestock_dict:\n",
    "    #print(code)\n",
    "    density_l = ilwis.Engine.do(\"selection\",census_livestock,'\"attributes('+code+')\"')\n",
    "    demand_l = 6 * 30.4 * livestock_dict[code] * density_l\n",
    "    \n",
    "    total_forage_l.append(demand_l)\n"
   ]
  },
  {
   "cell_type": "code",
   "execution_count": null,
   "metadata": {
    "collapsed": false,
    "scrolled": true
   },
   "outputs": [],
   "source": [
    "livestock_demand = sum(total_forage_l)\n",
    "\n",
    "visualize(livestock_demand)"
   ]
  },
  {
   "cell_type": "code",
   "execution_count": null,
   "metadata": {
    "collapsed": true
   },
   "outputs": [],
   "source": [
    "#livestock_demand.store(\"livestock_demand\",\"GTiff\",\"gdal\")\n",
    "livestock_demand.store(\"livestock_demand\",\"map\",\"ilwis3\")"
   ]
  },
  {
   "cell_type": "markdown",
   "metadata": {},
   "source": [
    "However there is a potential available amount of forage for livestock which is equal to the sustainable available forage minus the wildlife forage demand. <br/><br/>\n",
    "\n",
    "<b>potential_available = sustainable_available - wildlife_demand</b>"
   ]
  },
  {
   "cell_type": "code",
   "execution_count": null,
   "metadata": {
    "collapsed": false,
    "scrolled": true
   },
   "outputs": [],
   "source": [
    "#import ilwisobjects as ilwis\n",
    "#ilwis.disconnectIssueLogger()\n",
    "#set your ilwisobjects current working catalog\n",
    "#ilwis.Engine.setWorkingCatalog(r\"C:\\Python34\\Scripts\\geopython\\data\")\n",
    "\n",
    "#sustainable_available = ilwis.RasterCoverage(\"sustainable_available.mpr\")\n",
    "#wildlife_demand = ilwis.RasterCoverage(\"wildlife_demand.mpr\")\n",
    "\n",
    "potential_available = sustainable_available - wildlife_demand\n",
    "\n",
    "visualize(potential_available, minvalue = -80000, cmap= 'brg' )"
   ]
  },
  {
   "cell_type": "code",
   "execution_count": null,
   "metadata": {
    "collapsed": false
   },
   "outputs": [],
   "source": [
    "#potential_available.store(\"potential_available\",\"GTiff\",\"gdal\")\n",
    "potential_available.store(\"potential_available\",\"map\",\"ilwis3\")"
   ]
  },
  {
   "cell_type": "markdown",
   "metadata": {},
   "source": [
    "## 3. ACCESSIBILITY"
   ]
  },
  {
   "cell_type": "markdown",
   "metadata": {},
   "source": [
    "### 3.1 Suitability of the rangelands for livestock grazing"
   ]
  },
  {
   "cell_type": "markdown",
   "metadata": {},
   "source": [
    "The suitability of the rangelands for grazing has to be applied. Factors like slope steepness will reduce the amount of forage to what is actually available for grazing\n",
    "\n",
    "<i>Note: there are many other factors that might be considered such as surface roughness, hindrance by vegetation, extreme temperatures, flooding, predators, human berriers.</i>\n",
    "\n",
    "<img src=\"files/images/suitability1.jpg\" width=450>\n"
   ]
  },
  {
   "cell_type": "code",
   "execution_count": null,
   "metadata": {
    "collapsed": false
   },
   "outputs": [],
   "source": [
    "# we classify the slope map according to the above table\n",
    "# we can use a pixel iterator to check the update the pixel values\n",
    "\n",
    "### note: due to a bug happening when the code run in ipython to rerun this code restart the kernel, \n",
    "### rerun the visualize function at point 1.1 , uncomment the 3 lines of code below\n",
    "\n",
    "#import ilwisobjects as ilwis\n",
    "#ilwis.disconnectIssueLogger()\n",
    "#set your ilwisobjects current working catalog!\n",
    "#ilwis.Engine.setWorkingCatalog(r\"C:\\Python34\\Scripts\\geopython\\data\")\n",
    "\n",
    "slope = ilwis.RasterCoverage(ilwis.Engine.getLocation() + \"/slope/slope_mamase.mpr\")\n",
    "\n",
    "size = slope.size().xsize * slope.size().ysize * slope.size().zsize\n",
    "\n",
    "rciter = iter(slope)\n",
    "\n",
    "for i in range(size):\n",
    "    # print(float(rciter))\n",
    "    if 0 <= float(rciter) < 15:\n",
    "        rciter[i] = 100.0\n",
    "        # print(float(rciter))\n",
    "    elif 15 <= float(rciter) < 30:\n",
    "        rciter[i] = 75.0\n",
    "        # print(float(rciter))\n",
    "    elif 30 <= float(rciter) <= 100:\n",
    "        rciter[i] = 25.0\n",
    "        # print(float(rciter))\n",
    "    else:\n",
    "        rciter[i] = 0.0\n",
    "        # print(float(rciter))\n",
    "\n",
    "    next(rciter) \n"
   ]
  },
  {
   "cell_type": "code",
   "execution_count": null,
   "metadata": {
    "collapsed": false,
    "scrolled": true
   },
   "outputs": [],
   "source": [
    "visualize(slope)"
   ]
  },
  {
   "cell_type": "code",
   "execution_count": null,
   "metadata": {
    "collapsed": false
   },
   "outputs": [],
   "source": [
    "#slope.store(\"suitable\",\"GTiff\",\"gdal\")\n",
    "slope.store(\"suitable\",\"map\",\"ilwis3\")"
   ]
  },
  {
   "cell_type": "markdown",
   "metadata": {},
   "source": [
    "### 3.2 Potential forage available and suitable for livestock"
   ]
  },
  {
   "cell_type": "markdown",
   "metadata": {},
   "source": [
    "The suitability map can be applied as a reduction factor for the potential available amount of forage for livestock"
   ]
  },
  {
   "cell_type": "code",
   "execution_count": null,
   "metadata": {
    "collapsed": false,
    "scrolled": true
   },
   "outputs": [],
   "source": [
    "#potential_available= ilwis.RasterCoverage(\"potential_available.mpr\")\n",
    "#slope = ilwis.RasterCoverage(\"suitable.mpr\")\n",
    "\n",
    "\n",
    "potential_available_suitable = potential_available * (slope /100)\n",
    "\n",
    "visualize(potential_available_suitable)"
   ]
  },
  {
   "cell_type": "code",
   "execution_count": null,
   "metadata": {
    "collapsed": false
   },
   "outputs": [],
   "source": [
    "#potential_available_suitable.store(\"potential_available_suitable\",\"GTiff\",\"gdal\")\n",
    "potential_available_suitable.store(\"potential_available_suitable\",\"map\",\"ilwis3\")"
   ]
  },
  {
   "cell_type": "markdown",
   "metadata": {},
   "source": [
    "### 3.3 Accessibility aspect of the rangelands for livestock grazing"
   ]
  },
  {
   "cell_type": "markdown",
   "metadata": {},
   "source": [
    "The availability of water is still a crucial point in the hearding strategy of the Maasai, together with the availability of forage. <br/>\n",
    "The availability of water during the dry season depends on the existence of artificial water supply ( e.g. boreholes, pipeline water supply) and natural water supply (e.g. permanent rivers and swamps, springs, and wells. <br/>\n",
    "The accessibility classification according to water drinking availability in the dry season will be\n",
    "- 0-5 km: daily regime\n",
    "- 5-12 km: every other day regime\n",
    "- more than 12 km: inaccessible"
   ]
  },
  {
   "cell_type": "code",
   "execution_count": null,
   "metadata": {
    "collapsed": false
   },
   "outputs": [],
   "source": [
    "#calculating distanceraster and mask\n",
    "\n",
    "#120716 temporary fix to ilwis not being able to load waterpoints.mpr with only the path to it\n",
    "ilwis.Engine.setWorkingCatalog(ilwis.Engine.getLocation() + \"/waterpoints\")\n",
    "\n",
    "rc = ilwis.RasterCoverage(\"Waterpoints.mpr\")\n",
    "rcdist = ilwis.Engine.do(\"distanceraster\",rc)\n",
    "\n",
    "#go back to current working catalog\n",
    "ilwis.Engine.setWorkingCatalog(pth)\n",
    "\n",
    "rcdist.store(\"pointdistance\",\"GTiff\", \"gdal\")\n",
    "rc2 = ilwis.Engine.do(\"iff\", rcdist > 12000, 0, 1)\n",
    "rc2.store( \"distance_mask\"  ,\"map\", \"ilwis3\")\n",
    "\n",
    "#####no_access = ilwis.RasterCoverage(ilwis.Engine.getLocation() + \"/waterpoints/pointdistance/distance_mask.mpr\")\n",
    "no_access = ilwis.RasterCoverage(\"distance_mask.mpr\")\n",
    "visualize(no_access)"
   ]
  },
  {
   "cell_type": "markdown",
   "metadata": {},
   "source": [
    "### 3.4 Extraction of livestock forage demand of the actual forage availability"
   ]
  },
  {
   "cell_type": "markdown",
   "metadata": {},
   "source": [
    "The final rangeland management map can be obtained by subtracting  the livestock_demand from potential_available_suitable and multiplying the result by the no_access mask. <br/>\n",
    "\n",
    "<b>rangeland_management = (potential_available_suitable - livestock_demand) * no_access</b><br/>\n",
    "\n",
    "<u>The negative pixels indicate danger of overgrazing.</u>"
   ]
  },
  {
   "cell_type": "code",
   "execution_count": null,
   "metadata": {
    "collapsed": false,
    "scrolled": false
   },
   "outputs": [],
   "source": [
    "#potential_available_suitable2 = ilwis.RasterCoverage(\"potential_available_suitable.mpr\")\n",
    "#livestock_demand2 = ilwis.RasterCoverage(\"livestock_demand.mpr\")\n",
    "#no_access = ilwis.RasterCoverage(ilwis.Engine.getLocation() + \"/waterpoints/pointdistance/distance_mask.mpr\")\n",
    "\n",
    "rangeland_management = (potential_available_suitable - livestock_demand) * no_access\n",
    "visualize(rangeland_management, minvalue = -50000,  cmap='brg' )"
   ]
  },
  {
   "cell_type": "markdown",
   "metadata": {},
   "source": [
    "## SOME LINKS"
   ]
  },
  {
   "cell_type": "markdown",
   "metadata": {},
   "source": [
    "[MaMaSe project](http://www.mamase.org)\n",
    "\n",
    "[Ilwisobjects tutorial](https://github.com/52North/IlwisCore/wiki/ILWIS-Python-API-Tutorial)\n",
    "\n",
    "[Ilwisobjects downloads](https://github.com/52North/IlwisCore/releases/tag/v1.0-beta2.2)\n",
    "\n",
    "[Ilwis software](http://52north.org/downloads/category/151-ilwis-3-08-05-package)\n",
    "\n",
    "[Visualizing data with Ilwis](http://52north.org/files/ilwis/ILWIS_3.8_Map_Visualization.pdf)\n",
    "\n",
    "[Ilwis 4 preview](https://vimeo.com/user29453510/review/153355429/1c1a97df84)"
   ]
  },
  {
   "cell_type": "code",
   "execution_count": null,
   "metadata": {
    "collapsed": true
   },
   "outputs": [],
   "source": []
  }
 ],
 "metadata": {
  "kernelspec": {
   "display_name": "Python 3",
   "language": "python",
   "name": "python3"
  },
  "language_info": {
   "codemirror_mode": {
    "name": "ipython",
    "version": 3
   },
   "file_extension": ".py",
   "mimetype": "text/x-python",
   "name": "python",
   "nbconvert_exporter": "python",
   "pygments_lexer": "ipython3",
   "version": "3.4.4"
  }
 },
 "nbformat": 4,
 "nbformat_minor": 0
}
